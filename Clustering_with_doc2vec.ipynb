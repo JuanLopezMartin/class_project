{
  "nbformat": 4,
  "nbformat_minor": 0,
  "metadata": {
    "kernelspec": {
      "display_name": "Python 3.6",
      "name": "python3",
      "language": "python"
    },
    "language_info": {
      "mimetype": "text/x-python",
      "nbconvert_exporter": "python",
      "version": "3.6.8",
      "name": "python",
      "pygments_lexer": "ipython3",
      "file_extension": ".py",
      "codemirror_mode": {
        "version": 3,
        "name": "ipython"
      }
    },
    "colab": {
      "name": "Clustering with doc2vec.ipynb",
      "provenance": [],
      "collapsed_sections": [
        "ImhYK0F7trf2",
        "MSFFdGbuz4Yd"
      ]
    }
  },
  "cells": [
    {
      "cell_type": "markdown",
      "metadata": {
        "id": "i9dyAjrFrJUh",
        "colab_type": "text"
      },
      "source": [
        "# A data-driven way to merge similar classes together\n",
        "\n",
        "Juan Lopez Martin"
      ]
    },
    {
      "cell_type": "markdown",
      "metadata": {
        "id": "fRD8tbDfrKe6",
        "colab_type": "text"
      },
      "source": [
        "The quality of the classes is determinant for training a classifier. In the famous MNIST example, the handwritten number '6' was always labeled correclty as a '6'. However, it is clear it would be very problematic if that digit was sometimes labels as '6', others as 'six', 'SIX', '6s', etc. In this case, it would be necessary to merge all these labels together before training. If not, the classifier would probably pick up irrelevant features of the '6' to try to distinguish between the classes '6', 'six', '6s', etc and end up with much less prediction accuracy.\n",
        "\n",
        "We are in a similar situation if we want to train a classifier to infer the issue from the narrative. For instance, some narratives have the issue 'Incorrect information on credit report', while others have 'Incorrect information on your report'. It is relatively clear that these two issues are not different, and that these two labels should be merged. The same happens, for instance, with 'Attempts to collect debt not owed' and 'Cont'd attempts collect debt not owed'."
      ]
    },
    {
      "cell_type": "markdown",
      "metadata": {
        "id": "ImhYK0F7trf2",
        "colab_type": "text"
      },
      "source": [
        "## Loading data"
      ]
    },
    {
      "cell_type": "code",
      "metadata": {
        "id": "8nNMnV8S21gS",
        "colab_type": "code",
        "outputId": "33c4ac62-4909-4dc6-8910-fd8896a4ff86",
        "colab": {
          "base_uri": "https://localhost:8080/",
          "height": 125
        }
      },
      "source": [
        "from google.colab import drive\n",
        "drive.mount('/content/drive')"
      ],
      "execution_count": 1,
      "outputs": [
        {
          "output_type": "stream",
          "text": [
            "Go to this URL in a browser: https://accounts.google.com/o/oauth2/auth?client_id=947318989803-6bn6qk8qdgf4n4g3pfee6491hc0brc4i.apps.googleusercontent.com&redirect_uri=urn%3Aietf%3Awg%3Aoauth%3A2.0%3Aoob&scope=email%20https%3A%2F%2Fwww.googleapis.com%2Fauth%2Fdocs.test%20https%3A%2F%2Fwww.googleapis.com%2Fauth%2Fdrive%20https%3A%2F%2Fwww.googleapis.com%2Fauth%2Fdrive.photos.readonly%20https%3A%2F%2Fwww.googleapis.com%2Fauth%2Fpeopleapi.readonly&response_type=code\n",
            "\n",
            "Enter your authorization code:\n",
            "··········\n",
            "Mounted at /content/drive\n"
          ],
          "name": "stdout"
        }
      ]
    },
    {
      "cell_type": "code",
      "metadata": {
        "id": "7cxIonW52lKm",
        "colab_type": "code",
        "colab": {}
      },
      "source": [
        "import pandas as pd\n",
        "import numpy as np\n",
        "from datetime import datetime\n",
        "import pickle\n",
        "from operator import itemgetter\n",
        "from itertools import compress\n",
        "import spacy\n",
        "import en_core_web_sm\n",
        "nlp = en_core_web_sm.load()\n",
        "from gensim.models.doc2vec import Doc2Vec, TaggedDocument\n",
        "import networkx \n",
        "from networkx.algorithms.components.connected import connected_components\n",
        "from sklearn.metrics import pairwise_distances\n",
        "from scipy.spatial.distance import cosine\n"
      ],
      "execution_count": 0,
      "outputs": []
    },
    {
      "cell_type": "code",
      "metadata": {
        "id": "uI5nPghk2lK6",
        "colab_type": "code",
        "outputId": "d99ea551-4bbf-479b-b350-4e5c308161f1",
        "colab": {
          "base_uri": "https://localhost:8080/",
          "height": 72
        }
      },
      "source": [
        "folder = 'drive/My Drive/IBM/'\n",
        "df = pd.read_csv(folder+'Consumer_Complaints.csv')"
      ],
      "execution_count": 3,
      "outputs": [
        {
          "output_type": "stream",
          "text": [
            "/usr/local/lib/python3.6/dist-packages/IPython/core/interactiveshell.py:2718: DtypeWarning: Columns (5,6,11,16) have mixed types. Specify dtype option on import or set low_memory=False.\n",
            "  interactivity=interactivity, compiler=compiler, result=result)\n"
          ],
          "name": "stderr"
        }
      ]
    },
    {
      "cell_type": "code",
      "metadata": {
        "id": "6fJLU6IK2lLN",
        "colab_type": "code",
        "colab": {}
      },
      "source": [
        "df = df.dropna(subset=['Consumer complaint narrative'])"
      ],
      "execution_count": 0,
      "outputs": []
    },
    {
      "cell_type": "code",
      "metadata": {
        "id": "HFhUyljk2lLQ",
        "colab_type": "code",
        "colab": {}
      },
      "source": [
        "filename = folder+'texts.pickle'\n",
        "infile = open(filename,'rb')\n",
        "texts = pickle.load(infile)\n",
        "infile.close()"
      ],
      "execution_count": 0,
      "outputs": []
    },
    {
      "cell_type": "code",
      "metadata": {
        "id": "pN4TphBwJJiT",
        "colab_type": "code",
        "colab": {}
      },
      "source": [
        "filename = folder+'documents.pickle'\n",
        "infile = open(filename,'rb')\n",
        "documents = pickle.load(infile)\n",
        "infile.close()"
      ],
      "execution_count": 0,
      "outputs": []
    },
    {
      "cell_type": "code",
      "metadata": {
        "id": "QpdLf6ynI-w7",
        "colab_type": "code",
        "colab": {}
      },
      "source": [
        "filename = folder+'model_100.pickle'\n",
        "infile = open(filename,'rb')\n",
        "model = pickle.load(infile)\n",
        "infile.close()"
      ],
      "execution_count": 0,
      "outputs": []
    },
    {
      "cell_type": "code",
      "metadata": {
        "id": "GeFa8fafn1JH",
        "colab_type": "code",
        "colab": {
          "base_uri": "https://localhost:8080/",
          "height": 34
        },
        "outputId": "1f828ca2-54f6-4210-c17c-50c05347d416"
      },
      "source": [
        "#This is to get a subset of the dataset. p=1 means we get 100% of the rows\n",
        "\n",
        "p = 1\n",
        "rand = np.random.choice(a=[False, True], size=len(texts), p = [1-p, p])\n",
        "\n",
        "df_s = df[rand]\n",
        "\n",
        "texts_s = list(compress(texts, rand))\n",
        "len(texts_s)\n",
        "\n",
        "documents_s = list(compress(documents, rand))\n",
        "len(documents_s)"
      ],
      "execution_count": 8,
      "outputs": [
        {
          "output_type": "execute_result",
          "data": {
            "text/plain": [
              "444683"
            ]
          },
          "metadata": {
            "tags": []
          },
          "execution_count": 8
        }
      ]
    },
    {
      "cell_type": "code",
      "metadata": {
        "id": "fyaBLYFy2lM1",
        "colab_type": "code",
        "outputId": "d811f26c-85a9-48e2-8dda-0daee3a9abc6",
        "colab": {
          "base_uri": "https://localhost:8080/",
          "height": 34
        }
      },
      "source": [
        "# We use L2 normalization on the vectors\n",
        "model.docvecs.init_sims(replace=True)\n",
        "\n",
        "# Then take the appropiate sample\n",
        "vecs_s = []\n",
        "for i in range(0, df.shape[0]):\n",
        "  if rand[i] == True:\n",
        "    vecs_s.append(model.docvecs[i])\n",
        "    \n",
        "len(vecs_s)"
      ],
      "execution_count": 9,
      "outputs": [
        {
          "output_type": "execute_result",
          "data": {
            "text/plain": [
              "444683"
            ]
          },
          "metadata": {
            "tags": []
          },
          "execution_count": 9
        }
      ]
    },
    {
      "cell_type": "markdown",
      "metadata": {
        "id": "5H5l9s8F2lLW",
        "colab_type": "text"
      },
      "source": [
        "## Data cleaning"
      ]
    },
    {
      "cell_type": "markdown",
      "metadata": {
        "id": "WgDufrSnqL4_",
        "colab_type": "text"
      },
      "source": [
        "We re using spacy to:\n",
        "\n",
        "* Remove the X, XX, XXX, etc.\n",
        "* Remove strings that are not alphanumeric\n",
        "* Remove spaces\n",
        "* Remove punctuation\n",
        "* Remove numbers\n",
        "* Lemmatize\n",
        "\n",
        "This trasnforms the narrative to a list of words."
      ]
    },
    {
      "cell_type": "code",
      "metadata": {
        "id": "l2DjLNK82lL8",
        "colab_type": "code",
        "colab": {}
      },
      "source": [
        "## Commented out -- output saved at model_100.pickle\n",
        "\n",
        "#xs = [\"X\"*2, \"X\"*3, \"X\"*4, \"X\"*5, \"X\"*6, \"X\"*7, \"X\"*8, \"X\"*9, \"X\"*10, \"X\"*11, \"XX/XX\", \"XX/XX/XXX\", \"XX/XX/XX\", \"XX/XXXX\"]\n",
        "\n",
        "#texts = []\n",
        "#for sent in nlp.pipe(df['Consumer complaint narrative'], disable=[\"tagger\", \"parser\", \"ner\", \"textcat\"]):\n",
        "#    texts.append([word.lemma_ for word in sent \n",
        "#                  if word.is_alpha and\n",
        "#                  not word.is_space and\n",
        "#                  not word.is_stop and \n",
        "#                  not word.is_punct and \n",
        "#                  not word.like_num and \n",
        "#                     word.text not in xs])\n",
        "    \n",
        "#filename = folder+'texts.pickle'\n",
        "#outfile = open(filename,'wb')\n",
        "#pickle.dump(texts,outfile)\n",
        "#outfile.close()"
      ],
      "execution_count": 0,
      "outputs": []
    },
    {
      "cell_type": "markdown",
      "metadata": {
        "id": "5OOBLouX2lMR",
        "colab_type": "text"
      },
      "source": [
        "##Doc2vec"
      ]
    },
    {
      "cell_type": "markdown",
      "metadata": {
        "id": "X3WUsvqEt7kC",
        "colab_type": "text"
      },
      "source": [
        "Word embeddings are vector representations of individual words that carry their semantic meaning. If these word vectors are obtained from a large corpus we would expect, for instance, that the vector for frog and toad will be very similar. Additionally, these vectors capture more complex relationships. For instance, the association between 'Washington' and USA will be similar as the association between 'China' and 'Beijin'.\n",
        "\n",
        "Doc2vec is an extension to the famous word embedding approach that trains vector representations of entire documents instead of just words. If trained on a large set of books we would expect, for instance, that Statistics books will have similar vectors.\n",
        "\n",
        "In this case, we will train document embeddings based on the narratives. In other words, each narrative will be transformed into a 300-dimensional vector. The main advantge of this approach over simpler methods is that it takes into account the order of the words in sentences. In fact, under the hood the vectors are built by trying to predict a center word based on the surrounding words (PV-DM). This allows to capture complex semantic relationships between words.\n",
        "\n",
        "The hyperparamethers used here are relatively standard in the field:\n",
        "\n",
        "* 300-dimensional vectors.\n",
        "* Window of 15 words (meaning we try to predict the center word from a 15-word window).\n",
        "* Negative sampling of 5 -- improves results and reduces computational cost.\n",
        "* 100 epochs. This is good but it took 4 hours.\n"
      ]
    },
    {
      "cell_type": "code",
      "metadata": {
        "id": "0Fbp9RTzdUMS",
        "colab_type": "code",
        "colab": {}
      },
      "source": [
        "## Commented out -- output saved at model_100.pickle\n",
        "\n",
        "# First, we create a taggeddocument object, necessary for word2vec. Then we\n",
        "# train the vecs.\n",
        "\n",
        "#documents = [TaggedDocument(doc, [i]) for i, doc in enumerate(texts)]\n",
        "#model = Doc2Vec(documents, dm = 1, vector_size=300, window=15, negative=5, min_count=1, workers=4, epochs = 100)\n",
        "\n",
        "#filename = folder+'model_100.pickle'\n",
        "#outfile = open(filename,'wb')\n",
        "#model = pickle.dump(model, outfile)\n",
        "#outfile.close()"
      ],
      "execution_count": 0,
      "outputs": []
    },
    {
      "cell_type": "markdown",
      "metadata": {
        "id": "dpLwVyGOODYW",
        "colab_type": "text"
      },
      "source": [
        "## Selecting labels to merge"
      ]
    },
    {
      "cell_type": "markdown",
      "metadata": {
        "id": "IZGd7vA0aafp",
        "colab_type": "text"
      },
      "source": [
        "For each issue (class) we have a set of narratives (documents) that have been represented as (300-dimensional L2-normalized) vectors with the doc2vec algorithm. For example, for issue $A$ ('Incorrect information on your report') we have obtained $a_1, a_2, ..., a_{65508}$ vectors. One basic approach to summarize the information we have about the issue $A$ is to calculate the mean for all the vectors $a_i$. Doing this, we obtain an average (300-dimensional L2-normalized) vector that can be seen as an approximate representation of the issue $A$. The idea is that the average of the vectors $a_i$ should contain that is to a certain degree common for the issue $A$.   "
      ]
    },
    {
      "cell_type": "code",
      "metadata": {
        "id": "Ez8jqVbsIOXh",
        "colab_type": "code",
        "colab": {}
      },
      "source": [
        "# Create list of issues ordered by value_counts\n",
        "issues_list = list(df_s['Issue'].value_counts().index)\n",
        "\n",
        "# Calculate the mean for the vectors corresponding to each issue\n",
        "vec_list = [np.mean(np.array(list(compress(vecs_s, list(df[rand]['Issue']==issue)))), axis  = 0) for issue in issues_list]"
      ],
      "execution_count": 0,
      "outputs": []
    },
    {
      "cell_type": "markdown",
      "metadata": {
        "id": "Q6RzVoFYZ7e4",
        "colab_type": "text"
      },
      "source": [
        "Now we have a vector representation of issue $A$, $B$, $C$, etc. In word2vec the similarity of two vectors is measured using cosine similarity, which determines whether the two vectors are pointing in approximately the same direction.\n",
        "\n",
        "\n",
        "We will create a similarity matrix that reports the cosine similarity between all the issues. If you have no experience with word2vec, this can be conceptually similar to a correlation matrix. That is, issues that are similar between each other will have a cosine similarity close to one and non-related issues a score close to zero."
      ]
    },
    {
      "cell_type": "code",
      "metadata": {
        "id": "slmg8HpRPp1G",
        "colab_type": "code",
        "colab": {
          "base_uri": "https://localhost:8080/",
          "height": 301
        },
        "outputId": "93a9d0a2-71b5-4620-ec6f-dcc1686d2737"
      },
      "source": [
        "# Create distance matrix with cosine similarity\n",
        "dist = 1-pairwise_distances(np.array(vec_list), metric=\"cosine\")\n",
        "\n",
        "# Put the distance matrix in a dataframe with index and column names\n",
        "dist_df = pd.DataFrame(dist, index = issues_list, columns=issues_list)\n",
        "\n",
        "dist_df.iloc[0:5,0:5]"
      ],
      "execution_count": 25,
      "outputs": [
        {
          "output_type": "execute_result",
          "data": {
            "text/html": [
              "<div>\n",
              "<style scoped>\n",
              "    .dataframe tbody tr th:only-of-type {\n",
              "        vertical-align: middle;\n",
              "    }\n",
              "\n",
              "    .dataframe tbody tr th {\n",
              "        vertical-align: top;\n",
              "    }\n",
              "\n",
              "    .dataframe thead th {\n",
              "        text-align: right;\n",
              "    }\n",
              "</style>\n",
              "<table border=\"1\" class=\"dataframe\">\n",
              "  <thead>\n",
              "    <tr style=\"text-align: right;\">\n",
              "      <th></th>\n",
              "      <th>Incorrect information on your report</th>\n",
              "      <th>Problem with a credit reporting company's investigation into an existing problem</th>\n",
              "      <th>Attempts to collect debt not owed</th>\n",
              "      <th>Incorrect information on credit report</th>\n",
              "      <th>Improper use of your report</th>\n",
              "    </tr>\n",
              "  </thead>\n",
              "  <tbody>\n",
              "    <tr>\n",
              "      <th>Incorrect information on your report</th>\n",
              "      <td>1.000000</td>\n",
              "      <td>0.988587</td>\n",
              "      <td>0.960438</td>\n",
              "      <td>0.990585</td>\n",
              "      <td>0.962792</td>\n",
              "    </tr>\n",
              "    <tr>\n",
              "      <th>Problem with a credit reporting company's investigation into an existing problem</th>\n",
              "      <td>0.988587</td>\n",
              "      <td>1.000000</td>\n",
              "      <td>0.947416</td>\n",
              "      <td>0.988502</td>\n",
              "      <td>0.950099</td>\n",
              "    </tr>\n",
              "    <tr>\n",
              "      <th>Attempts to collect debt not owed</th>\n",
              "      <td>0.960438</td>\n",
              "      <td>0.947416</td>\n",
              "      <td>1.000000</td>\n",
              "      <td>0.947011</td>\n",
              "      <td>0.929568</td>\n",
              "    </tr>\n",
              "    <tr>\n",
              "      <th>Incorrect information on credit report</th>\n",
              "      <td>0.990585</td>\n",
              "      <td>0.988502</td>\n",
              "      <td>0.947011</td>\n",
              "      <td>1.000000</td>\n",
              "      <td>0.955511</td>\n",
              "    </tr>\n",
              "    <tr>\n",
              "      <th>Improper use of your report</th>\n",
              "      <td>0.962792</td>\n",
              "      <td>0.950099</td>\n",
              "      <td>0.929568</td>\n",
              "      <td>0.955511</td>\n",
              "      <td>1.000000</td>\n",
              "    </tr>\n",
              "  </tbody>\n",
              "</table>\n",
              "</div>"
            ],
            "text/plain": [
              "                                                    Incorrect information on your report  ...  Improper use of your report\n",
              "Incorrect information on your report                                            1.000000  ...                     0.962792\n",
              "Problem with a credit reporting company's inves...                              0.988587  ...                     0.950099\n",
              "Attempts to collect debt not owed                                               0.960438  ...                     0.929568\n",
              "Incorrect information on credit report                                          0.990585  ...                     0.955511\n",
              "Improper use of your report                                                     0.962792  ...                     1.000000\n",
              "\n",
              "[5 rows x 5 columns]"
            ]
          },
          "metadata": {
            "tags": []
          },
          "execution_count": 25
        }
      ]
    },
    {
      "cell_type": "markdown",
      "metadata": {
        "id": "fr2GQ7KNSYE8",
        "colab_type": "text"
      },
      "source": [
        "We have to set up a threshold to decide which issues to merge and which issues to keep separate. In this case I have decided for 0.985, and in my experience something between 0.98 and 0.99 seems like a reasonable threshold. However, we can discuss the appropiate threshold. \n",
        "\n",
        "\n",
        "Note that merges of  issues can be multiple. Namely, if issue $A$ is going to be merged with $B$ and $B$ is also going to be merged with $C$, we are going to obtain one new issue $K = A \\cup B \\cup C$. This is similar to say that, given a network $G = (V, E)$ in which each vertex is an original issue and the edges are $1$ if the issues are going to be merged and $0$ otherwise, we are going to keep all the distinct components as labels."
      ]
    },
    {
      "cell_type": "code",
      "metadata": {
        "id": "K12qMnpxYm4W",
        "colab_type": "code",
        "colab": {
          "base_uri": "https://localhost:8080/",
          "height": 825
        },
        "outputId": "0c6bb5bd-d4b3-493f-99b2-1d5ad8a5f2fb"
      },
      "source": [
        "# The issues to merge are decided according to an user-defined threshold.\n",
        "threshold = 0.985\n",
        "l = [list(dist_df[dist_df.loc[issue]>threshold].index) for issue in issues_list]\n",
        "\n",
        "# Finding components in the network.\n",
        "# Code from https://stackoverflow.com/questions/4842613/merge-lists-that-share-common-elements?lq=1\n",
        "\n",
        "def to_graph(l):\n",
        "    G = networkx.Graph()\n",
        "    for part in l:\n",
        "        # each sublist is a bunch of nodes\n",
        "        G.add_nodes_from(part)\n",
        "        # it also imlies a number of edges:\n",
        "        G.add_edges_from(to_edges(part))\n",
        "    return G\n",
        "\n",
        "def to_edges(l):\n",
        "    \"\"\" \n",
        "        treat `l` as a Graph and returns it's edges \n",
        "        to_edges(['a','b','c','d']) -> [(a,b), (b,c),(c,d)]\n",
        "    \"\"\"\n",
        "    it = iter(l)\n",
        "    last = next(it)\n",
        "\n",
        "    for current in it:\n",
        "        yield last, current\n",
        "        last = current    \n",
        "\n",
        "G = to_graph(l)\n",
        "components = list(connected_components(G))\n",
        "\n",
        "for aset in components:\n",
        "  if len(aset)>1:\n",
        "    for element in aset:\n",
        "      print(element)\n",
        "    print(\"\\n\")"
      ],
      "execution_count": 23,
      "outputs": [
        {
          "output_type": "stream",
          "text": [
            "Credit reporting company's investigation\n",
            "Incorrect information on credit report\n",
            "Incorrect information on your report\n",
            "Problem with a credit reporting company's investigation into an existing problem\n",
            "\n",
            "\n",
            "Attempts to collect debt not owed\n",
            "Cont'd attempts collect debt not owed\n",
            "\n",
            "\n",
            "Trouble during payment process\n",
            "Loan servicing, payments, escrow account\n",
            "\n",
            "\n",
            "Written notification about debt\n",
            "Disclosure verification of debt\n",
            "\n",
            "\n",
            "Struggling to pay mortgage\n",
            "Loan modification,collection,foreclosure\n",
            "\n",
            "\n",
            "Managing an account\n",
            "Deposits and withdrawals\n",
            "\n",
            "\n",
            "Took or threatened to take negative or legal action\n",
            "Taking/threatening an illegal action\n",
            "\n",
            "\n",
            "Application, originator, mortgage broker\n",
            "Applying for a mortgage or refinancing an existing mortgage\n",
            "\n",
            "\n",
            "Can't repay my loan\n",
            "Struggling to repay your loan\n",
            "\n",
            "\n",
            "Unable to get your credit report or credit score\n",
            "Unable to get credit report/credit score\n",
            "\n",
            "\n",
            "Problem caused by your funds being low\n",
            "Problems caused by my funds being low\n",
            "\n",
            "\n"
          ],
          "name": "stdout"
        }
      ]
    },
    {
      "cell_type": "code",
      "metadata": {
        "id": "DX_kqXCnbdRd",
        "colab_type": "code",
        "colab": {}
      },
      "source": [
        ""
      ],
      "execution_count": 0,
      "outputs": []
    },
    {
      "cell_type": "code",
      "metadata": {
        "id": "gwyQkJ6RbdNJ",
        "colab_type": "code",
        "colab": {}
      },
      "source": [
        ""
      ],
      "execution_count": 0,
      "outputs": []
    },
    {
      "cell_type": "code",
      "metadata": {
        "id": "__NaThZtbdK1",
        "colab_type": "code",
        "colab": {}
      },
      "source": [
        ""
      ],
      "execution_count": 0,
      "outputs": []
    },
    {
      "cell_type": "code",
      "metadata": {
        "id": "GuRrORkEbdIs",
        "colab_type": "code",
        "colab": {}
      },
      "source": [
        ""
      ],
      "execution_count": 0,
      "outputs": []
    },
    {
      "cell_type": "code",
      "metadata": {
        "id": "7fT9vTEUbdG5",
        "colab_type": "code",
        "colab": {}
      },
      "source": [
        ""
      ],
      "execution_count": 0,
      "outputs": []
    },
    {
      "cell_type": "code",
      "metadata": {
        "id": "mc5iLtndbdEM",
        "colab_type": "code",
        "colab": {}
      },
      "source": [
        ""
      ],
      "execution_count": 0,
      "outputs": []
    },
    {
      "cell_type": "code",
      "metadata": {
        "id": "8Hr9rHbYbdBW",
        "colab_type": "code",
        "colab": {}
      },
      "source": [
        ""
      ],
      "execution_count": 0,
      "outputs": []
    },
    {
      "cell_type": "code",
      "metadata": {
        "id": "a2KI9gj7bc-o",
        "colab_type": "code",
        "colab": {}
      },
      "source": [
        ""
      ],
      "execution_count": 0,
      "outputs": []
    },
    {
      "cell_type": "markdown",
      "metadata": {
        "id": "MSFFdGbuz4Yd",
        "colab_type": "text"
      },
      "source": [
        "## Garbage"
      ]
    },
    {
      "cell_type": "code",
      "metadata": {
        "id": "SViVgbOm2lMy",
        "colab_type": "code",
        "colab": {}
      },
      "source": [
        "#documents = [TaggedDocument(doc, [i]) for i, doc in enumerate(texts)]\n",
        "#model = Doc2Vec(documents, dm = 1, vector_size=300, window=15, negative=5, min_count=1, workers=4, epochs = 25)"
      ],
      "execution_count": 0,
      "outputs": []
    },
    {
      "cell_type": "code",
      "metadata": {
        "id": "65txsxil2lM9",
        "colab_type": "code",
        "colab": {}
      },
      "source": [
        "from sklearn.cluster import KMeans\n",
        "\n",
        "kmeans = KMeans(n_clusters=20).fit(vecs_s)"
      ],
      "execution_count": 0,
      "outputs": []
    },
    {
      "cell_type": "code",
      "metadata": {
        "id": "HgBNwRzq2lNF",
        "colab_type": "code",
        "colab": {}
      },
      "source": [
        "\n",
        "issues_considered = list(df_s['Issue'].value_counts().index)\n",
        "newdf = df_s[df_s['Issue'].isin(issues_considered)]\n",
        "ct = pd.crosstab(newdf['Issue'],kmeans.labels_)\n",
        "ctp = ct.apply(lambda x: x/x.sum(), axis = 1)\n",
        "ctp['n'] = ct.apply(lambda x: x.sum(), axis=1)\n",
        "#ctp.loc[list(newdf['Issue'].value_counts().index)].plot.bar(stacked = True)"
      ],
      "execution_count": 0,
      "outputs": []
    },
    {
      "cell_type": "code",
      "metadata": {
        "id": "XcHyfs9yC9Xm",
        "colab_type": "code",
        "outputId": "6346f776-92af-4e1b-a06e-a4331581b450",
        "colab": {
          "base_uri": "https://localhost:8080/",
          "height": 1000
        }
      },
      "source": [
        "ctp_f = ctp[ctp['n']<10]\n",
        "\n",
        "[ctp_f[ctp_f[i]>0].index for i in range(0,20)]"
      ],
      "execution_count": 0,
      "outputs": [
        {
          "output_type": "execute_result",
          "data": {
            "text/plain": [
              "[Index(['Arbitration', 'Balance transfer fee', 'Privacy'], dtype='object', name='Issue'),\n",
              " Index(['Can't contact lender or servicer',\n",
              "        'Loan payment wasn't credited to your account',\n",
              "        'Vehicle was damaged or destroyed the vehicle',\n",
              "        'Vehicle was repossessed or sold the vehicle'],\n",
              "       dtype='object', name='Issue'),\n",
              " Index(['Arbitration', 'Can't contact lender or servicer',\n",
              "        'Can't stop charges to bank account',\n",
              "        'Can't stop withdrawals from your bank account',\n",
              "        'Charged bank acct wrong day or amt',\n",
              "        'Confusing or misleading advertising or marketing',\n",
              "        'Customer service/Customer relations', 'Getting a line of credit',\n",
              "        'Lender repossessed or sold the vehicle',\n",
              "        'Loan payment wasn't credited to your account',\n",
              "        'Lost or stolen money order', 'Other service issues',\n",
              "        'Payment to acct not credited',\n",
              "        'Problem with additional add-on products or services',\n",
              "        'Sale of account'],\n",
              "       dtype='object', name='Issue'),\n",
              " Index(['Advertising, marketing or disclosures', 'Application processing delay',\n",
              "        'Applying for a mortgage', 'Arbitration',\n",
              "        'Charged bank acct wrong day or amt', 'Excessive fees', 'Fees',\n",
              "        'Lender damaged or destroyed property', 'Other service issues',\n",
              "        'Privacy', 'Problem with additional add-on products or services',\n",
              "        'Received a loan you didn't apply for',\n",
              "        'Was approved for a loan, but didn't receive the money'],\n",
              "       dtype='object', name='Issue'),\n",
              " Index(['Account terms and changes', 'Applied for loan/did not receive money',\n",
              "        'Applying for a mortgage', 'Can't stop charges to bank account',\n",
              "        'Can't stop withdrawals from your bank account', 'Cash advance',\n",
              "        'Cash advance fee', 'Credit limit changed',\n",
              "        'Incorrect/missing disclosures or info',\n",
              "        'Money was taken from your bank account on the wrong day or for the wrong amount',\n",
              "        'Payment to acct not credited', 'Sale of account'],\n",
              "       dtype='object', name='Issue'),\n",
              " Index(['Advertising', 'Advertising, marketing or disclosures',\n",
              "        'Applied for loan/did not receive money', 'Balance transfer fee',\n",
              "        'Can't stop charges to bank account',\n",
              "        'Customer service/Customer relations', 'Fees',\n",
              "        'Incorrect/missing disclosures or info',\n",
              "        'Loan payment wasn't credited to your account', 'Other service issues',\n",
              "        'Privacy', 'Sale of account', 'Unexpected/Other fees',\n",
              "        'Was approved for a loan, but didn't receive the money',\n",
              "        'Wrong amount charged or received'],\n",
              "       dtype='object', name='Issue'),\n",
              " Index(['Wrong amount charged or received'], dtype='object', name='Issue'),\n",
              " Index(['Cash advance fee', 'Fees', 'Lost or stolen money order',\n",
              "        'Problem with additional add-on products or services'],\n",
              "       dtype='object', name='Issue'),\n",
              " Index(['Advertising', 'Application processing delay',\n",
              "        'Can't contact lender or servicer',\n",
              "        'Charged bank acct wrong day or amt', 'Disclosures',\n",
              "        'Forbearance / Workout plans', 'Getting a line of credit',\n",
              "        'Loan payment wasn't credited to your account',\n",
              "        'Money was taken from your bank account on the wrong day or for the wrong amount',\n",
              "        'Problem with additional add-on products or services',\n",
              "        'Was approved for a loan, but didn't receive the money'],\n",
              "       dtype='object', name='Issue'),\n",
              " Index(['Advertising', 'Advertising, marketing or disclosures',\n",
              "        'Applied for loan/did not receive money', 'Bankruptcy',\n",
              "        'Can't contact lender or servicer',\n",
              "        'Can't stop withdrawals from your bank account', 'Cash advance', 'Fees',\n",
              "        'Lost or stolen check', 'Payment to acct not credited', 'Privacy',\n",
              "        'Problem adding money', 'Received a loan you didn't apply for',\n",
              "        'Vehicle was damaged or destroyed the vehicle',\n",
              "        'Was approved for a loan, but didn't receive the money',\n",
              "        'Wrong amount charged or received'],\n",
              "       dtype='object', name='Issue'),\n",
              " Index(['Confusing or misleading advertising or marketing',\n",
              "        'Credit limit changed', 'Incorrect/missing disclosures or info',\n",
              "        'Lost or stolen check', 'Other service issues', 'Problem adding money',\n",
              "        'Problem with additional add-on products or services',\n",
              "        'Unexpected/Other fees', 'Wrong amount charged or received'],\n",
              "       dtype='object', name='Issue'),\n",
              " Index(['Forbearance / Workout plans', 'Unexpected/Other fees'], dtype='object', name='Issue'),\n",
              " Index(['Convenience checks', 'Getting a line of credit'], dtype='object', name='Issue'),\n",
              " Index(['Balance transfer fee', 'Bankruptcy', 'Forbearance / Workout plans',\n",
              "        'Getting a line of credit',\n",
              "        'Loan payment wasn't credited to your account',\n",
              "        'Money was taken from your bank account on the wrong day or for the wrong amount',\n",
              "        'Problem adding money'],\n",
              "       dtype='object', name='Issue'),\n",
              " Index(['Applied for loan/did not receive money', 'Arbitration',\n",
              "        'Can't stop withdrawals from your bank account',\n",
              "        'Charged bank acct wrong day or amt', 'Payment to acct not credited',\n",
              "        'Privacy', 'Received a loan you didn't apply for'],\n",
              "       dtype='object', name='Issue'),\n",
              " Index([], dtype='object', name='Issue'),\n",
              " Index(['Adding money', 'Application processing delay', 'Arbitration',\n",
              "        'Can't stop charges to bank account',\n",
              "        'Confusing or misleading advertising or marketing', 'Fees',\n",
              "        'Lender repossessed or sold the vehicle', 'Other service issues',\n",
              "        'Received a loan you didn't apply for', 'Sale of account',\n",
              "        'Was approved for a loan, but didn't receive the money'],\n",
              "       dtype='object', name='Issue'),\n",
              " Index(['Bankruptcy', 'Wrong amount charged or received'], dtype='object', name='Issue'),\n",
              " Index(['Customer service/Customer relations', 'Problem with additional add-on products or services'], dtype='object', name='Issue'),\n",
              " Index(['Applied for loan/did not receive money', 'Arbitration',\n",
              "        'Can't contact lender or servicer',\n",
              "        'Can't stop charges to bank account',\n",
              "        'Charged bank acct wrong day or amt',\n",
              "        'Confusing or misleading advertising or marketing', 'Disclosures',\n",
              "        'Forbearance / Workout plans', 'Getting a line of credit',\n",
              "        'Loan payment wasn't credited to your account', 'Privacy'],\n",
              "       dtype='object', name='Issue')]"
            ]
          },
          "metadata": {
            "tags": []
          },
          "execution_count": 153
        }
      ]
    },
    {
      "cell_type": "code",
      "metadata": {
        "id": "0aqFkyDd2lNO",
        "colab_type": "code",
        "colab": {}
      },
      "source": [
        "issuestoconsider = df['Issue'].value_counts()[df['Issue'].value_counts()>1000].index.values.tolist()"
      ],
      "execution_count": 0,
      "outputs": []
    },
    {
      "cell_type": "code",
      "metadata": {
        "id": "gH7O35kL2lNT",
        "colab_type": "code",
        "colab": {}
      },
      "source": [
        "issuesclustered = ctp.loc[issuestoconsider].idxmax(axis=1)"
      ],
      "execution_count": 0,
      "outputs": []
    },
    {
      "cell_type": "code",
      "metadata": {
        "id": "NbEAWnhY2lNe",
        "colab_type": "code",
        "outputId": "baeae2c7-c2ad-4386-ef1d-8a056cbf8865",
        "colab": {
          "base_uri": "https://localhost:8080/",
          "height": 740
        }
      },
      "source": [
        "for i in range(0, 8):\n",
        "    print(str(i), \":\\n\")\n",
        "    print(issuesclustered[issuesclustered == i].index.values.tolist())\n",
        "    print(\"\\n\")"
      ],
      "execution_count": 0,
      "outputs": [
        {
          "output_type": "stream",
          "text": [
            "0 :\n",
            "\n",
            "['Problem with a purchase shown on your statement', 'Other features, terms, or problems', 'Billing disputes', 'Other', 'Identity theft / Fraud / Embezzlement', 'Closing/Cancelling account']\n",
            "\n",
            "\n",
            "1 :\n",
            "\n",
            "['Loan servicing, payments, escrow account', 'Dealing with my lender or servicer', 'Managing the loan or lease', 'Fees or interest', 'Struggling to repay your loan', 'Struggling to pay your loan', 'Closing your account', 'Problems caused by my funds being low', 'Opening an account', 'Money was not available when promised', 'Problem caused by your funds being low']\n",
            "\n",
            "\n",
            "2 :\n",
            "\n",
            "['Incorrect information on your report', \"Problem with a credit reporting company's investigation into an existing problem\", 'Incorrect information on credit report', 'Improper use of your report', 'Problem when making payments', 'Improper use of my credit report']\n",
            "\n",
            "\n",
            "3 :\n",
            "\n",
            "[]\n",
            "\n",
            "\n",
            "4 :\n",
            "\n",
            "['Attempts to collect debt not owed', \"Cont'd attempts collect debt not owed\", 'Communication tactics', 'Written notification about debt', 'Disclosure verification of debt', \"Can't repay my loan\", 'Taking/threatening an illegal action', 'Improper contact or sharing of info', 'Problem with fraud alerts or security freezes', 'Problems when you are unable to pay', 'Getting a credit card', 'Threatened to contact someone or share information improperly']\n",
            "\n",
            "\n",
            "5 :\n",
            "\n",
            "['Trouble during payment process', 'Loan modification,collection,foreclosure', 'Managing an account', 'Dealing with your lender or servicer', 'Struggling to pay mortgage', 'Account opening, closing, or management', 'Application, originator, mortgage broker', 'Deposits and withdrawals', 'Fraud or scam', 'Applying for a mortgage or refinancing an existing mortgage', 'Closing on a mortgage', 'Settlement process and costs', 'Advertising and marketing, including promotional offers', 'Closing an account', 'Problem with a lender or other company charging your account', 'Using a debit or ATM card', 'Taking out the loan or lease', 'Making/receiving payments, sending money', 'Other transaction problem', 'Problems at the end of the loan or lease', 'Credit decision / Underwriting', 'Trouble using your card']\n",
            "\n",
            "\n",
            "6 :\n",
            "\n",
            "['False statements or representation', 'Took or threatened to take negative or legal action', 'Credit monitoring or identity theft protection services', \"Charged fees or interest you didn't expect\"]\n",
            "\n",
            "\n",
            "7 :\n",
            "\n",
            "[\"Credit reporting company's investigation\", 'Unable to get your credit report or credit score', 'Unable to get credit report/credit score']\n",
            "\n",
            "\n"
          ],
          "name": "stdout"
        }
      ]
    },
    {
      "cell_type": "code",
      "metadata": {
        "id": "qcE_pVkZ2lN6",
        "colab_type": "code",
        "colab": {}
      },
      "source": [
        "from sklearn.cluster import DBSCAN\n",
        "\n",
        "dbscan = DBSCAN().fit(vecs_s)"
      ],
      "execution_count": 0,
      "outputs": []
    },
    {
      "cell_type": "code",
      "metadata": {
        "id": "zXFGgSgu2lOM",
        "colab_type": "code",
        "outputId": "e4104da4-7fc6-44c8-c899-2d0dd2aebd45",
        "colab": {
          "base_uri": "https://localhost:8080/",
          "height": 70
        }
      },
      "source": [
        "unique, counts = np.unique(dbscan.labels_, return_counts=True)\n",
        "\n",
        "np.asarray((unique, counts)).T"
      ],
      "execution_count": 0,
      "outputs": [
        {
          "output_type": "execute_result",
          "data": {
            "text/plain": [
              "array([[   -1, 20595],\n",
              "       [    0,  1854],\n",
              "       [    1,     5]])"
            ]
          },
          "metadata": {
            "tags": []
          },
          "execution_count": 81
        }
      ]
    }
  ]
}